{
 "cells": [
  {
   "cell_type": "markdown",
   "metadata": {},
   "source": [
    "# Subscription Data Exploration\n",
    "\n",
    "A data anlystics project submitted on [mindsumo](https://www.mindsumo.com/challenges) in response to a company challenge.  \n",
    "\n",
    "---\n",
    "\n",
    "The purpose of this project is to explore an anonymized, subscription dataset and attempt to classify subscribtion types & analyze revenue.  The below notebook exmamines the different subscription types, classifies each subscriber, and explores basic metrics for each grouping.  It then looks at general revenue trends for the overall company, and disects the dataset to identify the most profitable subscription types.  Finally, it attempts to project future revenues and provide actionable insights for the marketing team.\n",
    "\n",
    "Note: the subscription labels provided by the company include \"one-off\", \"daily\", \"monthly\", \"yearly\".  It is assumed that these are the only types for classification."
   ]
  },
  {
   "cell_type": "markdown",
   "metadata": {},
   "source": [
    "### Initial Project Setup"
   ]
  },
  {
   "cell_type": "code",
   "execution_count": 21,
   "metadata": {},
   "outputs": [
    {
     "name": "stdout",
     "output_type": "stream",
     "text": [
      "Requirement already satisfied: plotly in /Users/russomp/anaconda/lib/python2.7/site-packages\r\n",
      "Requirement already satisfied: nbformat>=4.2 in /Users/russomp/anaconda/lib/python2.7/site-packages (from plotly)\r\n",
      "Requirement already satisfied: six in /Users/russomp/anaconda/lib/python2.7/site-packages (from plotly)\r\n",
      "Requirement already satisfied: requests in /Users/russomp/anaconda/lib/python2.7/site-packages (from plotly)\r\n",
      "Requirement already satisfied: decorator>=4.0.6 in /Users/russomp/anaconda/lib/python2.7/site-packages (from plotly)\r\n",
      "Requirement already satisfied: pytz in /Users/russomp/anaconda/lib/python2.7/site-packages (from plotly)\r\n"
     ]
    }
   ],
   "source": [
    "# I will be using plotly to create interactive visualizations throughout this notebook. \n",
    "# Here I simply install the plotting library since it is not included in the stdlib or\n",
    "# the anaconda distribution of python.\n",
    "!pip install plotly"
   ]
  },
  {
   "cell_type": "code",
   "execution_count": 151,
   "metadata": {},
   "outputs": [
    {
     "data": {
      "text/html": [
       "<script>requirejs.config({paths: { 'plotly': ['https://cdn.plot.ly/plotly-latest.min']},});if(!window.Plotly) {{require(['plotly'],function(plotly) {window.Plotly=plotly;});}}</script>"
      ],
      "text/vnd.plotly.v1+html": [
       "<script>requirejs.config({paths: { 'plotly': ['https://cdn.plot.ly/plotly-latest.min']},});if(!window.Plotly) {{require(['plotly'],function(plotly) {window.Plotly=plotly;});}}</script>"
      ]
     },
     "metadata": {},
     "output_type": "display_data"
    }
   ],
   "source": [
    "import numpy as np\n",
    "import pandas as pd\n",
    "import scipy as sp\n",
    "import plotly.offline as py\n",
    "import plotly.graph_objs as go\n",
    "from plotly import tools\n",
    "py.init_notebook_mode(connected=True) # enable inline plotting for plotly"
   ]
  },
  {
   "cell_type": "markdown",
   "metadata": {},
   "source": [
    "### Brief exploration of the dataset "
   ]
  },
  {
   "cell_type": "code",
   "execution_count": 141,
   "metadata": {},
   "outputs": [
    {
     "data": {
      "text/html": [
       "<div>\n",
       "<style>\n",
       "    .dataframe thead tr:only-child th {\n",
       "        text-align: right;\n",
       "    }\n",
       "\n",
       "    .dataframe thead th {\n",
       "        text-align: left;\n",
       "    }\n",
       "\n",
       "    .dataframe tbody tr th {\n",
       "        vertical-align: top;\n",
       "    }\n",
       "</style>\n",
       "<table border=\"1\" class=\"dataframe\">\n",
       "  <thead>\n",
       "    <tr style=\"text-align: right;\">\n",
       "      <th></th>\n",
       "      <th>Id</th>\n",
       "      <th>Subscription ID</th>\n",
       "      <th>Amount (USD)</th>\n",
       "      <th>Transaction Date</th>\n",
       "    </tr>\n",
       "  </thead>\n",
       "  <tbody>\n",
       "    <tr>\n",
       "      <th>0</th>\n",
       "      <td>1235</td>\n",
       "      <td>15447</td>\n",
       "      <td>1900</td>\n",
       "      <td>01/01/1966</td>\n",
       "    </tr>\n",
       "    <tr>\n",
       "      <th>1</th>\n",
       "      <td>1236</td>\n",
       "      <td>30674</td>\n",
       "      <td>7280</td>\n",
       "      <td>01/01/1966</td>\n",
       "    </tr>\n",
       "    <tr>\n",
       "      <th>2</th>\n",
       "      <td>1237</td>\n",
       "      <td>5293</td>\n",
       "      <td>3260</td>\n",
       "      <td>01/01/1966</td>\n",
       "    </tr>\n",
       "    <tr>\n",
       "      <th>3</th>\n",
       "      <td>1238</td>\n",
       "      <td>33782</td>\n",
       "      <td>4060</td>\n",
       "      <td>01/02/1966</td>\n",
       "    </tr>\n",
       "    <tr>\n",
       "      <th>4</th>\n",
       "      <td>1239</td>\n",
       "      <td>56714</td>\n",
       "      <td>6370</td>\n",
       "      <td>01/02/1966</td>\n",
       "    </tr>\n",
       "  </tbody>\n",
       "</table>\n",
       "</div>"
      ],
      "text/plain": [
       "     Id  Subscription ID  Amount (USD) Transaction Date\n",
       "0  1235            15447          1900       01/01/1966\n",
       "1  1236            30674          7280       01/01/1966\n",
       "2  1237             5293          3260       01/01/1966\n",
       "3  1238            33782          4060       01/02/1966\n",
       "4  1239            56714          6370       01/02/1966"
      ]
     },
     "execution_count": 141,
     "metadata": {},
     "output_type": "execute_result"
    }
   ],
   "source": [
    "# Load dataset\n",
    "transactions_df = pd.read_csv(\"subscription_report.csv\")\n",
    "transactions_df.head()"
   ]
  },
  {
   "cell_type": "code",
   "execution_count": 142,
   "metadata": {},
   "outputs": [
    {
     "data": {
      "text/html": [
       "<div>\n",
       "<style>\n",
       "    .dataframe thead tr:only-child th {\n",
       "        text-align: right;\n",
       "    }\n",
       "\n",
       "    .dataframe thead th {\n",
       "        text-align: left;\n",
       "    }\n",
       "\n",
       "    .dataframe tbody tr th {\n",
       "        vertical-align: top;\n",
       "    }\n",
       "</style>\n",
       "<table border=\"1\" class=\"dataframe\">\n",
       "  <thead>\n",
       "    <tr style=\"text-align: right;\">\n",
       "      <th></th>\n",
       "      <th>transaction_id</th>\n",
       "      <th>subscription_id</th>\n",
       "      <th>transaction_amt</th>\n",
       "      <th>transaction_date</th>\n",
       "    </tr>\n",
       "  </thead>\n",
       "  <tbody>\n",
       "    <tr>\n",
       "      <th>0</th>\n",
       "      <td>1235</td>\n",
       "      <td>15447</td>\n",
       "      <td>1900</td>\n",
       "      <td>01/01/1966</td>\n",
       "    </tr>\n",
       "    <tr>\n",
       "      <th>1</th>\n",
       "      <td>1236</td>\n",
       "      <td>30674</td>\n",
       "      <td>7280</td>\n",
       "      <td>01/01/1966</td>\n",
       "    </tr>\n",
       "    <tr>\n",
       "      <th>2</th>\n",
       "      <td>1237</td>\n",
       "      <td>5293</td>\n",
       "      <td>3260</td>\n",
       "      <td>01/01/1966</td>\n",
       "    </tr>\n",
       "    <tr>\n",
       "      <th>3</th>\n",
       "      <td>1238</td>\n",
       "      <td>33782</td>\n",
       "      <td>4060</td>\n",
       "      <td>01/02/1966</td>\n",
       "    </tr>\n",
       "    <tr>\n",
       "      <th>4</th>\n",
       "      <td>1239</td>\n",
       "      <td>56714</td>\n",
       "      <td>6370</td>\n",
       "      <td>01/02/1966</td>\n",
       "    </tr>\n",
       "  </tbody>\n",
       "</table>\n",
       "</div>"
      ],
      "text/plain": [
       "   transaction_id  subscription_id  transaction_amt transaction_date\n",
       "0            1235            15447             1900       01/01/1966\n",
       "1            1236            30674             7280       01/01/1966\n",
       "2            1237             5293             3260       01/01/1966\n",
       "3            1238            33782             4060       01/02/1966\n",
       "4            1239            56714             6370       01/02/1966"
      ]
     },
     "execution_count": 142,
     "metadata": {},
     "output_type": "execute_result"
    }
   ],
   "source": [
    "# Rename column headers and convert dates to datetime objects for easier manipulation of data\n",
    "# ... converting the dates takes a little while\n",
    "transactions_df.columns = ['transaction_id', 'subscription_id', 'transaction_amt', 'transaction_date']\n",
    "# transactions_df.transaction_date = pd.to_datetime(transactions_df.transaction_date, dayfirst=True)\n",
    "transactions_df.head()"
   ]
  },
  {
   "cell_type": "code",
   "execution_count": 143,
   "metadata": {},
   "outputs": [
    {
     "data": {
      "text/html": [
       "<div>\n",
       "<style>\n",
       "    .dataframe thead tr:only-child th {\n",
       "        text-align: right;\n",
       "    }\n",
       "\n",
       "    .dataframe thead th {\n",
       "        text-align: left;\n",
       "    }\n",
       "\n",
       "    .dataframe tbody tr th {\n",
       "        vertical-align: top;\n",
       "    }\n",
       "</style>\n",
       "<table border=\"1\" class=\"dataframe\">\n",
       "  <thead>\n",
       "    <tr style=\"text-align: right;\">\n",
       "      <th></th>\n",
       "      <th>count</th>\n",
       "      <th>mean</th>\n",
       "      <th>std</th>\n",
       "      <th>min</th>\n",
       "      <th>25%</th>\n",
       "      <th>50%</th>\n",
       "      <th>75%</th>\n",
       "      <th>max</th>\n",
       "    </tr>\n",
       "  </thead>\n",
       "  <tbody>\n",
       "    <tr>\n",
       "      <th>transaction_id</th>\n",
       "      <td>779999.0</td>\n",
       "      <td>391234.000000</td>\n",
       "      <td>225166.460645</td>\n",
       "      <td>1235.0</td>\n",
       "      <td>196234.5</td>\n",
       "      <td>391234.0</td>\n",
       "      <td>586233.5</td>\n",
       "      <td>781233.0</td>\n",
       "    </tr>\n",
       "    <tr>\n",
       "      <th>subscription_id</th>\n",
       "      <td>779999.0</td>\n",
       "      <td>30634.908547</td>\n",
       "      <td>16008.741517</td>\n",
       "      <td>3159.0</td>\n",
       "      <td>16720.0</td>\n",
       "      <td>30478.0</td>\n",
       "      <td>44497.0</td>\n",
       "      <td>58376.0</td>\n",
       "    </tr>\n",
       "    <tr>\n",
       "      <th>transaction_amt</th>\n",
       "      <td>779999.0</td>\n",
       "      <td>3695.845713</td>\n",
       "      <td>2084.638894</td>\n",
       "      <td>100.0</td>\n",
       "      <td>1880.0</td>\n",
       "      <td>3680.0</td>\n",
       "      <td>5500.0</td>\n",
       "      <td>7300.0</td>\n",
       "    </tr>\n",
       "  </tbody>\n",
       "</table>\n",
       "</div>"
      ],
      "text/plain": [
       "                    count           mean            std     min       25%  \\\n",
       "transaction_id   779999.0  391234.000000  225166.460645  1235.0  196234.5   \n",
       "subscription_id  779999.0   30634.908547   16008.741517  3159.0   16720.0   \n",
       "transaction_amt  779999.0    3695.845713    2084.638894   100.0    1880.0   \n",
       "\n",
       "                      50%       75%       max  \n",
       "transaction_id   391234.0  586233.5  781233.0  \n",
       "subscription_id   30478.0   44497.0   58376.0  \n",
       "transaction_amt    3680.0    5500.0    7300.0  "
      ]
     },
     "execution_count": 143,
     "metadata": {},
     "output_type": "execute_result"
    }
   ],
   "source": [
    "# Brief exploration of the dataset\n",
    "transactions_df.describe().transpose()"
   ]
  },
  {
   "cell_type": "code",
   "execution_count": 144,
   "metadata": {},
   "outputs": [
    {
     "name": "stdout",
     "output_type": "stream",
     "text": [
      "Number of unique transactions: 779999\n",
      "Number of unique subscriptions: 27609\n",
      "Number of unique transaction amounts: 721\n"
     ]
    }
   ],
   "source": [
    "# A quick survey of the number of unique transactions and subscriptions\n",
    "print \"Number of unique transactions: {}\".format(len(transactions_df.transaction_id.unique()))\n",
    "print \"Number of unique subscriptions: {}\".format(len(transactions_df.subscription_id.unique()))\n",
    "print \"Number of unique transaction amounts: {}\".format(len(transactions_df.transaction_amt.unique()))\n",
    "# A quick check for duplicate transactions\n",
    "assert len(transactions_df.transaction_id.unique()) == len(transactions_df.transaction_id)"
   ]
  },
  {
   "cell_type": "markdown",
   "metadata": {},
   "source": [
    "##### Summary of the Preliminary Exploration and Checks\n",
    "The subscription range and the number of unique transaction amounts both seem large, as it would be assumed that standard subscription rates would be applied over the different groupings (e.g. daily, monthly, yearly, etc...).  As the data set was reported as clean and no duplicate transactions or other oddities were detected, it can be assumed that these values are correct, and the subscription scheme is highly customizeable."
   ]
  },
  {
   "cell_type": "markdown",
   "metadata": {},
   "source": [
    "### Categorization of Subscription Types"
   ]
  },
  {
   "cell_type": "code",
   "execution_count": 145,
   "metadata": {},
   "outputs": [],
   "source": [
    "'''The following scripts use subscription data from 'subscription_report.csv' \n",
    "sampled above to determine the subscription type and duration for each registered \n",
    "subscriber from Jan-1966 to Dec-2014.\n",
    "\n",
    "The subscription data is grouped according to subscription id, and the \n",
    "subscription type and duration are evaluated based on the transaction dates recorded\n",
    "for each unique subscription id.  Subscription duration is reported based on the \n",
    "subscription type (i.e. years for yearly subscriptions, months for monthly subscripion, \n",
    "and days for daily subscripions).\n",
    "'''\n",
    "from collections import defaultdict\n",
    "from datetime import datetime\n",
    "\n",
    "def get_transactions_by_id(transaction_data):\n",
    "    '''Return dictionary of subscription transaction dates for each id in data file.'''\n",
    "\n",
    "    # initialize an empty dictionary to store an inidividual subscriber's transaction data\n",
    "    subscription_transactions_by_id = defaultdict(lambda: defaultdict(list))\n",
    "\n",
    "    # store the date and amt of every transaction recorded for each subscriber\n",
    "    for row in transaction_data.itertuples():\n",
    "        subscription_id = row.subscription_id\n",
    "        transaction_date = pd.to_datetime(row.transaction_date, dayfirst=True)\n",
    "        subscription_transactions_by_id[subscription_id][\"transaction_dates_list\"].append(transaction_date)\n",
    "        subscription_transactions_by_id[subscription_id][\"transaction_amts_list\"].append(row.transaction_amt)\n",
    "    return subscription_transactions_by_id\n",
    "\n",
    "# subscription_transactions_by_id = get_transactions_by_id(transactions_df)"
   ]
  },
  {
   "cell_type": "code",
   "execution_count": 146,
   "metadata": {},
   "outputs": [],
   "source": [
    "def get_type_and_duration_by_id(transaction_data):\n",
    "    '''Determine the subscription type and duration for each subscription id,\n",
    "    add the results to a new dict including the transaction data, and return\n",
    "    the new dict.\n",
    "    '''\n",
    "\n",
    "    # load dictionary of subscription transactions for each subscripion id\n",
    "    subscription_transactions_by_id = get_transactions_by_id(transaction_data)\n",
    "\n",
    "    # initialize empty dictionary for storing subscription type and duration with\n",
    "    #   the transaction data for that id\n",
    "    subscription_data_by_id = {}\n",
    "    \n",
    "    # initialize dictionairy for storing ids of each membership type\n",
    "    subscriptions_by_type = defaultdict(list)\n",
    "\n",
    "    # loop through each subscription_id to evaluate type and duration based on transaction dates\n",
    "    for sub_id in subscription_transactions_by_id:\n",
    "        # check for subscription type 'one-off'\n",
    "        # -- this type should have only one transaction\n",
    "        # -- set duration to 1 day for type 'one-off'\n",
    "        if len(subscription_transactions_by_id[sub_id][\"transaction_dates_list\"]) == 1:\n",
    "            subscription_type = 'one-off'\n",
    "            subscription_duration = 1\n",
    "        # check for other subscription types\n",
    "        else:\n",
    "            # determine transaction year for first and second transactions\n",
    "            transaction_year_one = subscription_transactions_by_id[sub_id][\"transaction_dates_list\"][0].year\n",
    "            transaction_year_two = subscription_transactions_by_id[sub_id][\"transaction_dates_list\"][1].year\n",
    "\n",
    "            # determine transaction month for first and second transactions\n",
    "            transaction_month_one = subscription_transactions_by_id[sub_id][\"transaction_dates_list\"][0].month\n",
    "            transaction_month_two = subscription_transactions_by_id[sub_id][\"transaction_dates_list\"][1].month\n",
    "\n",
    "            # check for transaction type 'yearly'\n",
    "            # -- this type should contain consective transaction dates with different year values\n",
    "            # -- boundary case ==> \"monthly\" starting in december will have different year\n",
    "            # -- set duration to the number of years between the first and last recorded transactions\n",
    "            if transaction_year_one != transaction_year_two and \\\n",
    "                                            transaction_month_one + 1 != transaction_month_two:\n",
    "                subscription_type = 'yearly'\n",
    "                subscription_duration = len(subscription_transactions_by_id[sub_id][\"transaction_dates_list\"])\n",
    "            # check for transaction type 'monthly'\n",
    "            # -- this type should contain consective transaction dates with different month values\n",
    "            # -- set duration to the number of months between the first and last recorded transactions\n",
    "            elif transaction_month_one != transaction_month_two:\n",
    "                subscription_type = 'monthly'\n",
    "                subscription_duration = len(subscription_transactions_by_id[sub_id][\"transaction_dates_list\"])\n",
    "            # check for transaction type 'daily'\n",
    "            # -- return type 'daily' if conditions for the other types are not met\n",
    "            # -- set duration to the number of days between the first and last recorded transactions\n",
    "            else:\n",
    "                subscription_type = 'daily'\n",
    "                subscription_duration = len(subscription_transactions_by_id[sub_id][\"transaction_dates_list\"])\n",
    "        \n",
    "        # bin subscriptions by type\n",
    "        subscriptions_by_type[subscription_type].append(sub_id)\n",
    "        \n",
    "        # store all subscription data with type and duration fields computed in a single dict\n",
    "        subscription_data_by_id[sub_id] = defaultdict(dict)\n",
    "        subscription_data_by_id[sub_id][\"subscription_type\"] = subscription_type\n",
    "        subscription_data_by_id[sub_id][\"subscription_duration\"] = subscription_duration\n",
    "        subscription_data_by_id[sub_id][\"transaction_dates_list\"] = \\\n",
    "                                            subscription_transactions_by_id[sub_id][\"transaction_dates_list\"]\n",
    "        subscription_data_by_id[sub_id][\"transaction_amts_list\"] = \\\n",
    "                                            subscription_transactions_by_id[sub_id][\"transaction_amts_list\"]\n",
    "\n",
    "    return subscriptions_by_type, subscription_data_by_id"
   ]
  },
  {
   "cell_type": "code",
   "execution_count": 147,
   "metadata": {},
   "outputs": [],
   "source": [
    "# Compute subscription types and durations\n",
    "subscriptions_by_type, subscription_data_by_id = get_type_and_duration_by_id(transactions_df)"
   ]
  },
  {
   "cell_type": "code",
   "execution_count": 167,
   "metadata": {},
   "outputs": [
    {
     "data": {
      "application/vnd.plotly.v1+json": {
       "data": [
        {
         "type": "bar",
         "x": [
          "monthly",
          "yearly",
          "daily",
          "one-off"
         ],
         "y": [
          7331,
          8458,
          7124,
          4696
         ]
        }
       ],
       "layout": {}
      },
      "text/html": [
       "<div id=\"4966eeda-aaf1-4345-a665-6fe724c8796f\" style=\"height: 525px; width: 100%;\" class=\"plotly-graph-div\"></div><script type=\"text/javascript\">require([\"plotly\"], function(Plotly) { window.PLOTLYENV=window.PLOTLYENV || {};window.PLOTLYENV.BASE_URL=\"https://plot.ly\";Plotly.newPlot(\"4966eeda-aaf1-4345-a665-6fe724c8796f\", [{\"y\": [7331, 8458, 7124, 4696], \"x\": [\"monthly\", \"yearly\", \"daily\", \"one-off\"], \"type\": \"bar\"}], {}, {\"linkText\": \"Export to plot.ly\", \"showLink\": true})});</script>"
      ],
      "text/vnd.plotly.v1+html": [
       "<div id=\"4966eeda-aaf1-4345-a665-6fe724c8796f\" style=\"height: 525px; width: 100%;\" class=\"plotly-graph-div\"></div><script type=\"text/javascript\">require([\"plotly\"], function(Plotly) { window.PLOTLYENV=window.PLOTLYENV || {};window.PLOTLYENV.BASE_URL=\"https://plot.ly\";Plotly.newPlot(\"4966eeda-aaf1-4345-a665-6fe724c8796f\", [{\"y\": [7331, 8458, 7124, 4696], \"x\": [\"monthly\", \"yearly\", \"daily\", \"one-off\"], \"type\": \"bar\"}], {}, {\"linkText\": \"Export to plot.ly\", \"showLink\": true})});</script>"
      ]
     },
     "metadata": {},
     "output_type": "display_data"
    }
   ],
   "source": [
    "# Visualize some data\n",
    "labels = subscriptions_by_type.keys()\n",
    "values = [len(subscriptions_by_type[key]) for key in subscriptions_by_type.keys()]\n",
    "\n",
    "bar_trace = go.Bar(x=labels, y=values)\n",
    "\n",
    "py.iplot([bar_trace], filename='subtype-distributions')"
   ]
  },
  {
   "cell_type": "code",
   "execution_count": 168,
   "metadata": {},
   "outputs": [
    {
     "data": {
      "application/vnd.plotly.v1+json": {
       "data": [
        {
         "labels": [
          "monthly",
          "yearly",
          "daily",
          "one-off"
         ],
         "type": "pie",
         "values": [
          7331,
          8458,
          7124,
          4696
         ]
        }
       ],
       "layout": {}
      },
      "text/html": [
       "<div id=\"9b94ebec-c013-4fbf-abd2-deed705da448\" style=\"height: 525px; width: 100%;\" class=\"plotly-graph-div\"></div><script type=\"text/javascript\">require([\"plotly\"], function(Plotly) { window.PLOTLYENV=window.PLOTLYENV || {};window.PLOTLYENV.BASE_URL=\"https://plot.ly\";Plotly.newPlot(\"9b94ebec-c013-4fbf-abd2-deed705da448\", [{\"type\": \"pie\", \"labels\": [\"monthly\", \"yearly\", \"daily\", \"one-off\"], \"values\": [7331, 8458, 7124, 4696]}], {}, {\"linkText\": \"Export to plot.ly\", \"showLink\": true})});</script>"
      ],
      "text/vnd.plotly.v1+html": [
       "<div id=\"9b94ebec-c013-4fbf-abd2-deed705da448\" style=\"height: 525px; width: 100%;\" class=\"plotly-graph-div\"></div><script type=\"text/javascript\">require([\"plotly\"], function(Plotly) { window.PLOTLYENV=window.PLOTLYENV || {};window.PLOTLYENV.BASE_URL=\"https://plot.ly\";Plotly.newPlot(\"9b94ebec-c013-4fbf-abd2-deed705da448\", [{\"type\": \"pie\", \"labels\": [\"monthly\", \"yearly\", \"daily\", \"one-off\"], \"values\": [7331, 8458, 7124, 4696]}], {}, {\"linkText\": \"Export to plot.ly\", \"showLink\": true})});</script>"
      ]
     },
     "metadata": {},
     "output_type": "display_data"
    }
   ],
   "source": [
    "trace = go.Pie(labels=labels, values=values)\n",
    "\n",
    "py.iplot([trace], filename='basic_pie_chart')"
   ]
  },
  {
   "cell_type": "code",
   "execution_count": 126,
   "metadata": {},
   "outputs": [
    {
     "data": {
      "text/plain": [
       "defaultdict(dict,\n",
       "            {'subscription_duration': 13,\n",
       "             'subscription_type': 'daily',\n",
       "             'transaction_amts_list': [6370,\n",
       "              6370,\n",
       "              6370,\n",
       "              6370,\n",
       "              6370,\n",
       "              6370,\n",
       "              6370,\n",
       "              6370,\n",
       "              6370,\n",
       "              6370,\n",
       "              6370,\n",
       "              6370,\n",
       "              6370],\n",
       "             'transaction_dates_list': [Timestamp('1966-02-01 00:00:00'),\n",
       "              Timestamp('1966-02-02 00:00:00'),\n",
       "              Timestamp('1966-02-03 00:00:00'),\n",
       "              Timestamp('1966-02-04 00:00:00'),\n",
       "              Timestamp('1966-02-05 00:00:00'),\n",
       "              Timestamp('1966-02-06 00:00:00'),\n",
       "              Timestamp('1966-02-07 00:00:00'),\n",
       "              Timestamp('1966-02-08 00:00:00'),\n",
       "              Timestamp('1966-02-09 00:00:00'),\n",
       "              Timestamp('1966-02-10 00:00:00'),\n",
       "              Timestamp('1966-02-11 00:00:00'),\n",
       "              Timestamp('1966-02-12 00:00:00'),\n",
       "              Timestamp('1967-02-01 00:00:00')]})"
      ]
     },
     "execution_count": 126,
     "metadata": {},
     "output_type": "execute_result"
    }
   ],
   "source": [
    "# Inspect a sample output from the functions above\n",
    "subscription_data_by_id[56714]"
   ]
  },
  {
   "cell_type": "code",
   "execution_count": null,
   "metadata": {
    "collapsed": true
   },
   "outputs": [],
   "source": [
    "# Visualize some data\n",
    "labels = subscriptions_by_type.keys()\n",
    "\n",
    "bar_trace = go.Bar(x=labels, y=values)\n",
    "\n",
    "py.iplot([bar_trace], filename='subtype-distributions')"
   ]
  }
 ],
 "metadata": {
  "kernelspec": {
   "display_name": "Python 2",
   "language": "python",
   "name": "python2"
  },
  "language_info": {
   "codemirror_mode": {
    "name": "ipython",
    "version": 2
   },
   "file_extension": ".py",
   "mimetype": "text/x-python",
   "name": "python",
   "nbconvert_exporter": "python",
   "pygments_lexer": "ipython2",
   "version": "2.7.13"
  }
 },
 "nbformat": 4,
 "nbformat_minor": 2
}
